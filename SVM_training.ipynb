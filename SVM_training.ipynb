{
 "cells": [
  {
   "cell_type": "code",
   "execution_count": 1,
   "metadata": {},
   "outputs": [],
   "source": [
    "import os\n",
    "import shutil\n",
    "import numpy as np\n",
    "from PIL import Image"
   ]
  },
  {
   "cell_type": "markdown",
   "metadata": {},
   "source": [
    "<h3>SVM</h3>\n",
    "<p>SVM Classifier with Histograms of Oriented Gradients (HOGs) and Local Binary Patterns (LBP)</p>\n",
    "<p>To load weights into model for CNN + SVM, scroll to CNN-SVM section below</p>"
   ]
  },
  {
   "cell_type": "code",
   "execution_count": null,
   "metadata": {},
   "outputs": [],
   "source": [
    "import os\n",
    "import cv2\n",
    "import numpy as np\n",
    "from skimage.feature import hog, local_binary_pattern\n",
    "from scipy.spatial.distance import euclidean\n",
    "from sklearn.model_selection import train_test_split\n",
    "from sklearn.svm import SVC\n",
    "\n",
    "\n",
    "def extract_hog_features(image, orientations=9):\n",
    "    hog_features, hog_image = hog(image, pixels_per_cell=(8, 8), cells_per_block=(2, 2), \n",
    "                                   block_norm='L2-Hys', visualize=True, feature_vector=True)\n",
    "    return hog_features\n",
    "\n",
    "def extract_lbp_features(image):\n",
    "    # Set the parameters for LBP\n",
    "    radius = 1\n",
    "    n_points = 8 * radius\n",
    "    lbp = local_binary_pattern(image, n_points, radius, method=\"uniform\")\n",
    "    \n",
    "    # Compute the histogram of LBP\n",
    "    (hist, _) = np.histogram(lbp.ravel(), bins=np.arange(0, n_points + 3), range=(0, n_points + 2))\n",
    "    # Normalize the histogram\n",
    "    hist = hist.astype(\"float\")\n",
    "    hist /= hist.sum()\n",
    "    \n",
    "    return hist\n",
    "\n",
    "def crop_center(image, crop_size=128):\n",
    "    h, w = image.shape\n",
    "    center_h, center_w = h // 2, w // 2\n",
    "    half_crop = crop_size // 2\n",
    "    cropped_image = image[center_h - half_crop:center_h + half_crop, center_w - half_crop:center_w + half_crop]\n",
    "    return cropped_image\n",
    "\n",
    "X = []\n",
    "y = []\n",
    "parent_path = \"archive/similar/inpainting\"\n",
    "\n",
    "for folder_name in os.listdir(parent_path):\n",
    "    folder_path = os.path.join(parent_path, folder_name)\n",
    "    if os.path.isdir(folder_path):\n",
    "        real_img = None\n",
    "        forged_img = None\n",
    "        print(\"reading folder \" + folder_name)\n",
    "        for image in os.listdir(folder_path):\n",
    "            image_path = os.path.join(folder_path, image)\n",
    "            if os.path.isfile(image_path):\n",
    "                img = cv2.imread(image_path, cv2.IMREAD_GRAYSCALE)\n",
    "\n",
    "                if img is not None:\n",
    "                    h, w = img.shape\n",
    "\n",
    "                    # Skip images with height or width smaller than 256px\n",
    "                    if h < 128 or w < 128:\n",
    "                        print(f\"Skipping image {image_path} (size: {h}x{w})\")\n",
    "                        continue  # Skip this image\n",
    "\n",
    "                    if image.startswith(\"original\"):\n",
    "                        real_img = img\n",
    "                    elif image.startswith(\"inpainting\"):\n",
    "                        forged_img = img\n",
    "\n",
    "        if real_img is not None and forged_img is not None:\n",
    "            real_img_cropped = crop_center(real_img)\n",
    "            forged_img_cropped = crop_center(forged_img)\n",
    "\n",
    "            real_hog = extract_hog_features(real_img_cropped)\n",
    "            forged_hog = extract_hog_features(forged_img_cropped)\n",
    "\n",
    "            real_lbp = extract_lbp_features(real_img_cropped)\n",
    "            forged_lbp = extract_lbp_features(forged_img_cropped)\n",
    "\n",
    "            combined_features = np.hstack((real_hog, real_lbp))\n",
    "            X.append(combined_features)  \n",
    "            y.append(0)  \n",
    "\n",
    "            combined_features = np.hstack((forged_hog, forged_lbp))\n",
    "            X.append(combined_features)\n",
    "            y.append(1)  \n",
    "\n",
    "X = np.array(X)\n",
    "y = np.array(y)"
   ]
  },
  {
   "cell_type": "code",
   "execution_count": null,
   "metadata": {},
   "outputs": [],
   "source": [
    "import os\n",
    "import cv2\n",
    "import numpy as np\n",
    "from skimage.feature import hog, local_binary_pattern\n",
    "from scipy.spatial.distance import euclidean\n",
    "from sklearn.model_selection import train_test_split\n",
    "from sklearn.svm import SVC\n",
    "model_map = {\"svm_linear\": SVC(kernel = \"linear\"),\n",
    "             \"svm_rbf\": SVC(kernel = \"rbf\"),\n",
    "            \"svm_poly\": SVC(kernel = \"poly\")}\n",
    "\n",
    "parameters_map = { \n",
    "    \"C\": [0.01, 0.1, 1, 10, 100],\n",
    "    \"gamma\": [0.001, 0.01, 0.1, 1],\n",
    "    \"degree\": [2, 3, 4, 5] \n",
    "}\n",
    "\n",
    "def fine_tune(model: str, param_grid: dict, folds:int = 3):\n",
    "    return HalvingGridSearchCV(model_map[model], param_grid, n_jobs = -1, refit = True, cv = folds, verbose = 3, factor = 3, resource = \"n_samples\")"
   ]
  },
  {
   "cell_type": "code",
   "execution_count": null,
   "metadata": {},
   "outputs": [],
   "source": [
    "X_train, X_test, y_train, y_test = train_test_split(X, y, test_size=0.2, stratify=y, random_state=42)"
   ]
  },
  {
   "cell_type": "markdown",
   "metadata": {},
   "source": [
    "<b>SVM Model with Linear Kernel</p>"
   ]
  },
  {
   "cell_type": "code",
   "execution_count": null,
   "metadata": {},
   "outputs": [],
   "source": [
    "# linear\n",
    "from sklearn.experimental import enable_halving_search_cv\n",
    "from sklearn.model_selection import train_test_split, HalvingGridSearchCV\n",
    "linear_svm = fine_tune(\"svm_linear\", parameters_map)\n",
    "linear_svm.fit(X_train, y_train)"
   ]
  },
  {
   "cell_type": "code",
   "execution_count": null,
   "metadata": {},
   "outputs": [],
   "source": [
    "print(f\"Grid search linear SVM best parameters: {linear_svm.best_params_}\")\n",
    "print(f\"Cross validated score of the best linear SVM model: {linear_svm.best_score_}\")"
   ]
  },
  {
   "cell_type": "code",
   "execution_count": null,
   "metadata": {},
   "outputs": [],
   "source": [
    "y_pred = linear_svm.predict(X_test)"
   ]
  },
  {
   "cell_type": "code",
   "execution_count": null,
   "metadata": {},
   "outputs": [],
   "source": [
    "from sklearn.metrics import accuracy_score, confusion_matrix, precision_score, recall_score, f1_score\n",
    "\n",
    "accuracy = accuracy_score(y_test, y_pred)  \n",
    "print(f\"Accuracy: {accuracy * 100:.2f}%\")\n",
    "\n",
    "conf_matrix = confusion_matrix(y_test, y_pred)\n",
    "print(\"Confusion Matrix:\")\n",
    "print(conf_matrix)\n",
    "\n",
    "precision = precision_score(y_test, y_pred)\n",
    "recall = recall_score(y_test, y_pred)\n",
    "f1 = f1_score(y_test, y_pred)\n",
    "\n",
    "print(f\"Precision: {precision:.2f}\")\n",
    "print(f\"Recall: {recall:.2f}\")\n",
    "print(f\"F1 Score: {f1:.2f}\")"
   ]
  },
  {
   "cell_type": "markdown",
   "metadata": {},
   "source": [
    "<b>SVM Model with Polynomial Kernel</b>"
   ]
  },
  {
   "cell_type": "code",
   "execution_count": null,
   "metadata": {},
   "outputs": [],
   "source": [
    "# polynomial\n",
    "poly_svm = fine_tune(\"svm_poly\", parameters_map)\n",
    "poly_svm.fit(X_train, y_train)"
   ]
  },
  {
   "cell_type": "code",
   "execution_count": null,
   "metadata": {},
   "outputs": [],
   "source": [
    "print(f\"Grid search linear SVM best parameters: {poly_svm.best_params_}\")\n",
    "print(f\"Cross validated score of the best linear SVM model: {poly_svm.best_score_}\")"
   ]
  },
  {
   "cell_type": "code",
   "execution_count": null,
   "metadata": {},
   "outputs": [],
   "source": [
    "y_pred_poly = poly_svm.predict(X_test)"
   ]
  },
  {
   "cell_type": "code",
   "execution_count": null,
   "metadata": {},
   "outputs": [],
   "source": [
    "accuracy = accuracy_score(y_test, y_pred_poly)  \n",
    "print(f\"Accuracy: {accuracy * 100:.2f}%\")\n",
    "\n",
    "conf_matrix = confusion_matrix(y_test, y_pred_poly)\n",
    "print(\"Confusion Matrix:\")\n",
    "print(conf_matrix)\n",
    "\n",
    "precision = precision_score(y_test, y_pred_poly)\n",
    "recall = recall_score(y_test, y_pred_poly)\n",
    "f1 = f1_score(y_test, y_pred_poly)\n",
    "\n",
    "print(f\"Precision: {precision:.2f}\")\n",
    "print(f\"Recall: {recall:.2f}\")\n",
    "print(f\"F1 Score: {f1:.2f}\")"
   ]
  },
  {
   "cell_type": "markdown",
   "metadata": {},
   "source": [
    "<b>SVM Model with RBF Kernel</b>"
   ]
  },
  {
   "cell_type": "code",
   "execution_count": null,
   "metadata": {},
   "outputs": [],
   "source": [
    "# rbf\n",
    "rbf_svm = fine_tune(\"svm_rbf\", parameters_map)\n",
    "rbf_svm.fit(X_train, y_train)"
   ]
  },
  {
   "cell_type": "code",
   "execution_count": null,
   "metadata": {},
   "outputs": [],
   "source": [
    "print(f\"Grid search linear SVM best parameters: {rbf_svm.best_params_}\")\n",
    "print(f\"Cross validated score of the best linear SVM model: {rbf_svm.best_score_}\")"
   ]
  },
  {
   "cell_type": "code",
   "execution_count": null,
   "metadata": {},
   "outputs": [],
   "source": [
    "y_pred_rbf = rbf_svm.predict(X_test)"
   ]
  },
  {
   "cell_type": "code",
   "execution_count": null,
   "metadata": {},
   "outputs": [],
   "source": [
    "accuracy = accuracy_score(y_test, y_pred_rbf)  \n",
    "print(f\"Accuracy: {accuracy * 100:.2f}%\")\n",
    "\n",
    "conf_matrix = confusion_matrix(y_test, y_pred_rbf)\n",
    "print(\"Confusion Matrix:\")\n",
    "print(conf_matrix)\n",
    "\n",
    "precision = precision_score(y_test, y_pred_rbf)\n",
    "recall = recall_score(y_test, y_pred_rbf)\n",
    "f1 = f1_score(y_test, y_pred_rbf)\n",
    "\n",
    "print(f\"Precision: {precision:.2f}\")\n",
    "print(f\"Recall: {recall:.2f}\")\n",
    "print(f\"F1 Score: {f1:.2f}\")"
   ]
  }
 ],
 "metadata": {
  "kernelspec": {
   "display_name": "Python 3 (ipykernel)",
   "language": "python",
   "name": "python3"
  },
  "language_info": {
   "codemirror_mode": {
    "name": "ipython",
    "version": 3
   },
   "file_extension": ".py",
   "mimetype": "text/x-python",
   "name": "python",
   "nbconvert_exporter": "python",
   "pygments_lexer": "ipython3",
   "version": "3.11.5"
  }
 },
 "nbformat": 4,
 "nbformat_minor": 4
}
